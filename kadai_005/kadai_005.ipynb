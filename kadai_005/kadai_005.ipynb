{
  "nbformat": 4,
  "nbformat_minor": 0,
  "metadata": {
    "colab": {
      "provenance": []
    },
    "kernelspec": {
      "name": "python3",
      "display_name": "Python 3"
    },
    "language_info": {
      "name": "python"
    }
  },
  "cells": [
    {
      "cell_type": "code",
      "execution_count": 4,
      "metadata": {
        "colab": {
          "base_uri": "https://localhost:8080/"
        },
        "id": "--Xvt54KnUkd",
        "outputId": "95dadd17-d8c7-4e7c-b902-29c2abbd3cb1"
      },
      "outputs": [
        {
          "output_type": "stream",
          "name": "stdout",
          "text": [
            "75.0㎠\n"
          ]
        }
      ],
      "source": [
        "jouhen = 10\n",
        "kahen = 20\n",
        "takasa = 5\n",
        "\n",
        "daikei_menseki = (jouhen + kahen) * takasa / 2\n",
        "print(f\"{daikei_menseki}㎠\")\n"
      ]
    }
  ]
}